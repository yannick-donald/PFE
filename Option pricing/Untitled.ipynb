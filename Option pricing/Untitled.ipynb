{
 "cells": [
  {
   "cell_type": "code",
   "execution_count": 1,
   "id": "218ae2a7",
   "metadata": {},
   "outputs": [],
   "source": [
    "from numpy.linalg.linalg import inv\n",
    "import numpy as np\n",
    "from PricingMethod import PricingMethod\n",
    "\n",
    "from Option import *\n",
    "from Option import Option\n",
    "from StochasticProcess import StochasticProcess, BlackScholesProcess\n",
    "from RegressionBasis import *\n",
    "from LongstaffSchwartz import LongstaffSchwartz\n",
    "import matplotlib.pyplot as plt\n",
    "import time\n",
    "\n",
    "from matplotlib import cm\n",
    "from matplotlib import pyplot as plt\n",
    "import matplotlib\n",
    "from mpl_toolkits.mplot3d import Axes3D"
   ]
  },
  {
   "cell_type": "code",
   "execution_count": null,
   "id": "b407f7bb",
   "metadata": {},
   "outputs": [],
   "source": [
    "def test_max_call_option(m):\n",
    "    \n",
    "    # Paramètres pour le test\n",
    "    # Define the number of dimensions (number of assets)\n",
    "    \n",
    "    dim = 3\n",
    "\n",
    "    # Define the risk-free rate for each dimension (asset)\n",
    "    r = np.array([0.05, 0.06, 0.04])\n",
    "\n",
    "    # Define the volatility for each dimension (asset)\n",
    "    vol = np.array([0.1, 0.2, 0.15])\n",
    "    K = 105\n",
    "\n",
    "    # Define the correlation matrix\n",
    "    \n",
    "    corr = np.array([\n",
    "    [1.0, 0.2, 0.4],\n",
    "    [0.2, 1.0, 0.5],\n",
    "    [0.4, 0.5, 1.0]\n",
    "    ])\n",
    "\n",
    "    # Define the drift for each dimension (asset)\n",
    "    \n",
    "    mu = np.array([0.06, 0.08, 0.07])\n",
    "\n",
    "    # Create the Black-Scholes process\n",
    "    process = BlackScholesProcess(dim=dim, r=r, vol=vol, corr=corr, mu=mu)\n",
    "\n",
    "    # Define the initial asset prices\n",
    "    S0 = np.array([100, 100, 100])\n",
    "\n",
    "    # Define the number of paths and time steps\n",
    "    N = 1000\n",
    "    #m = 50\n",
    "\n",
    "    # Define the time horizon\n",
    "    T = 1\n",
    "\n",
    "    # Generate paths\n",
    "    S = process.generate_paths(S0, N, m, T)\n",
    "    option =  MaxCallOption(K, T, S0)\n",
    "    degree = 4\n",
    "    \n",
    "    basis_list = [ChebyshevBasis(degree), LaguerreBasis(degree), PolynomialBasis(degree), HermiteBasis(degree),\n",
    "                 PolynomialBasis3D(degree),MonomialBasis3D(degree),PolynomialHortoBasis3D(degree,LaguerreBasis(degree))]\n",
    "    \n",
    "    V_option = []\n",
    "    \n",
    "    for base in basis_list:\n",
    "        \n",
    "        # Créer la base de régression polynomiale avec le degré spécifié\n",
    "        basis = base\n",
    "        ls = LongstaffSchwartz(option, basis, N)\n",
    "\n",
    "        # Mesure du temps de calcul\n",
    "        start_time = time.time()\n",
    "        price = ls.price(option, process, m)\n",
    "        end_time = time.time()\n",
    "        V_option.append(price)\n",
    "\n",
    "        print(f'Le prix de l\\'option max_call avec la base de régression {str(basis)} '\n",
    "              f'de degré {degree} pour N={N} est : {price:.4f}')\n",
    "        print(f'Temps de calcul : {end_time - start_time:.6f} secondes\\n')\n",
    "        \n",
    "\n",
    "        \n",
    "def test_max_call_IC():\n",
    "    \n",
    "    # Définition des classes et fonctions manquantes (à compléter)\n",
    "    # ...\n",
    "\n",
    "    # Paramètres pour le test\n",
    "    dim = 3\n",
    "    r = np.array([0.05, 0.06, 0.04])\n",
    "    vol = np.array([0.1, 0.2, 0.15])\n",
    "    corr = np.array([\n",
    "    [1.0, 0.2, 0.4],\n",
    "    [0.2, 1.0, 0.5],\n",
    "    [0.4, 0.5, 1.0]\n",
    "    ])\n",
    "    mu = np.array([0.06, 0.08, 0.07])\n",
    "    T=1\n",
    "    m=365\n",
    "    degree=4\n",
    "    #process = BlackScholesProcess(dim=dim, r=r, vol=vol, corr=corr, mu=mu)\n",
    "    N=1000\n",
    "    K=105\n",
    "\n",
    "    t_ = np.linspace(0, T, m)\n",
    "\n",
    "    # Créer la liste des bases de régression\n",
    "    basis_list = [ChebyshevBasis(degree), LaguerreBasis(degree), PolynomialBasis(degree), HermiteBasis(degree),\n",
    "                 PolynomialBasis3D(degree),MonomialBasis3D(degree),PolynomialHortoBasis3D(degree,LaguerreBasis(degree))]\n",
    "\n",
    "    # Initialiser les listes pour stocker les résultats\n",
    "    V_results = []\n",
    "\n",
    "    for base in basis_list:\n",
    "        basis = base\n",
    "        V_option = []\n",
    "        for i in range(10):\n",
    "            start_time = time.time()\n",
    "        \n",
    "        \n",
    "            s0=np.array([100])\n",
    "            process = BlackScholesProcess(dim=dim, r=r, vol=vol, corr=corr, mu=mu)\n",
    "            \n",
    "            option = MaxCallOption(K, T, s0)\n",
    "            \n",
    "            ls = LongstaffSchwartz(option, basis, N)\n",
    "\n",
    "            price = ls.price(option, process, m)\n",
    "            end_time = time.time()\n",
    "            \n",
    "            \n",
    "            \n",
    "            \n",
    "            V_option.append()\n",
    "\n",
    "        # Calculer les prix d'options Call pour chaque actif sous-jacent\n",
    "        \n",
    "\n",
    "        # Ajouter les résultats à la liste\n",
    "        V_results.append(V_option)\n",
    "\n",
    "    \n",
    "    \n",
    "    for i, base in enumerate(basis_list):\n",
    "        \n",
    "        print( f\" L'intervalle de confiance IC ={ list(mean_confidence_interval(V_results[i]))[1:]} Pour la base {base.basis_name}\" )\n",
    "        \n",
    "        \n",
    "        \n",
    "def test_max_call_graph():\n",
    " \n",
    "\n",
    "    # Définition des classes et fonctions manquantes (à compléter)\n",
    "    # ...\n",
    "\n",
    "    # Paramètres pour le test\n",
    "    dim = 3\n",
    "    r = np.array([0.05, 0.06, 0.04])\n",
    "    vol = np.array([0.1, 0.2, 0.15])\n",
    "    corr = np.array([\n",
    "    [1.0, 0.2, 0.4],\n",
    "    [0.2, 1.0, 0.5],\n",
    "    [0.4, 0.5, 1.0]\n",
    "    ])\n",
    "    mu = np.array([0.06, 0.08, 0.07])\n",
    "    T=1\n",
    "    #m=365\n",
    "    degree=4\n",
    "    #process = BlackScholesProcess(dim=dim, r=r, vol=vol, corr=corr, mu=mu)\n",
    "    N=1000\n",
    "    K=105\n",
    "\n",
    "   \n",
    "    s0= np.array([100,100,100])\n",
    "\n",
    "    # Créer la liste des bases de régression\n",
    "    basis_list = [ChebyshevBasis(degree), LaguerreBasis(degree), PolynomialBasis(degree), HermiteBasis(degree),\n",
    "                 PolynomialBasis3D(degree),MonomialBasis3D(degree),PolynomialHortoBasis3D(degree,LaguerreBasis(degree))]\n",
    "    # Initialiser les listes pour stocker les résultats\n",
    "    V_results = []\n",
    "\n",
    "    for base in basis_list:\n",
    "        basis = base\n",
    "        V_option = []\n",
    "        for  m in range(1,365):\n",
    "            start_time = time.time()\n",
    "            \n",
    "            process = BlackScholesProcess(dim=dim, r=r, vol=vol, corr=corr, mu=mu)\n",
    "            \n",
    "            option = MaxCallOption(K, T, s0)\n",
    "            \n",
    "            ls = LongstaffSchwartz(option, basis, N)\n",
    "\n",
    "            price = ls.price(option, process, m)\n",
    "            \n",
    "            end_time = time.time()\n",
    "            \n",
    "            \n",
    "            V_option.append(end_time - start_time)\n",
    "\n",
    "        # Calculer les prix d'options Call pour chaque actif sous-jacent\n",
    "        \n",
    "\n",
    "        # Ajouter les résultats à la liste\n",
    "        V_results.append(V_option)\n",
    "\n",
    "    # Créer un graphique pour visualiser les résultats\n",
    "    plt.figure(figsize=(17, 15))\n",
    "    \n",
    "    \n",
    "    for i, base in enumerate(basis_list):\n",
    "        plt.scatter([ i for i in range(1,365)], V_results[i], label=base.basis_name)\n",
    "        \n",
    "    \n",
    "    plt.xlabel(\" m le pas de Temps\")\n",
    "    plt.ylabel(\"Temps de calcul\")\n",
    "    plt.title(\"m le pas de Temps en fonction du temps de calcul\")\n",
    "    plt.legend()\n",
    "    plt.grid()\n",
    "    plt.show()\n",
    "      \n",
    "if __name__ == '__main__':\n",
    "    # Tester l'option MaxPut avec différentes valeurs de degré de la base de régression\n",
    "    #test_max_call_option()\n",
    "    #test_max_call_IC()\n",
    "    test_max_call_graph()\n",
    "    "
   ]
  },
  {
   "cell_type": "code",
   "execution_count": null,
   "id": "24145d0a",
   "metadata": {},
   "outputs": [],
   "source": []
  },
  {
   "cell_type": "code",
   "execution_count": null,
   "id": "75b65596",
   "metadata": {},
   "outputs": [],
   "source": []
  },
  {
   "cell_type": "code",
   "execution_count": null,
   "id": "ead6340d",
   "metadata": {},
   "outputs": [],
   "source": []
  },
  {
   "cell_type": "code",
   "execution_count": null,
   "id": "47aaa5ef",
   "metadata": {},
   "outputs": [],
   "source": []
  },
  {
   "cell_type": "code",
   "execution_count": null,
   "id": "60273248",
   "metadata": {},
   "outputs": [],
   "source": []
  },
  {
   "cell_type": "code",
   "execution_count": null,
   "id": "ccb278ce",
   "metadata": {},
   "outputs": [],
   "source": []
  },
  {
   "cell_type": "code",
   "execution_count": null,
   "id": "cc790443",
   "metadata": {},
   "outputs": [],
   "source": []
  },
  {
   "cell_type": "code",
   "execution_count": null,
   "id": "87f1b15d",
   "metadata": {},
   "outputs": [],
   "source": []
  },
  {
   "cell_type": "code",
   "execution_count": null,
   "id": "bce2658d",
   "metadata": {},
   "outputs": [],
   "source": []
  },
  {
   "cell_type": "code",
   "execution_count": null,
   "id": "9ba844cf",
   "metadata": {},
   "outputs": [],
   "source": []
  },
  {
   "cell_type": "code",
   "execution_count": null,
   "id": "e33df9e1",
   "metadata": {},
   "outputs": [],
   "source": []
  },
  {
   "cell_type": "code",
   "execution_count": null,
   "id": "d8e9cdab",
   "metadata": {},
   "outputs": [],
   "source": []
  },
  {
   "cell_type": "code",
   "execution_count": null,
   "id": "9ab7ae60",
   "metadata": {},
   "outputs": [],
   "source": []
  },
  {
   "cell_type": "code",
   "execution_count": null,
   "id": "de17fd34",
   "metadata": {},
   "outputs": [],
   "source": []
  },
  {
   "cell_type": "code",
   "execution_count": null,
   "id": "da4dff9b",
   "metadata": {},
   "outputs": [],
   "source": []
  },
  {
   "cell_type": "code",
   "execution_count": null,
   "id": "b27852b3",
   "metadata": {},
   "outputs": [],
   "source": []
  },
  {
   "cell_type": "code",
   "execution_count": null,
   "id": "aa7ca3d3",
   "metadata": {},
   "outputs": [],
   "source": []
  },
  {
   "cell_type": "code",
   "execution_count": null,
   "id": "95c4e057",
   "metadata": {},
   "outputs": [],
   "source": []
  },
  {
   "cell_type": "code",
   "execution_count": null,
   "id": "6eee8860",
   "metadata": {},
   "outputs": [],
   "source": []
  },
  {
   "cell_type": "code",
   "execution_count": null,
   "id": "7976cff7",
   "metadata": {},
   "outputs": [],
   "source": []
  },
  {
   "cell_type": "code",
   "execution_count": null,
   "id": "13284b41",
   "metadata": {},
   "outputs": [],
   "source": []
  },
  {
   "cell_type": "code",
   "execution_count": null,
   "id": "56059b16",
   "metadata": {},
   "outputs": [],
   "source": []
  },
  {
   "cell_type": "code",
   "execution_count": null,
   "id": "2590edce",
   "metadata": {},
   "outputs": [],
   "source": []
  },
  {
   "cell_type": "code",
   "execution_count": null,
   "id": "cc4a7db4",
   "metadata": {},
   "outputs": [],
   "source": []
  },
  {
   "cell_type": "code",
   "execution_count": null,
   "id": "7428b3b4",
   "metadata": {},
   "outputs": [],
   "source": []
  },
  {
   "cell_type": "code",
   "execution_count": null,
   "id": "4743839c",
   "metadata": {},
   "outputs": [],
   "source": []
  },
  {
   "cell_type": "code",
   "execution_count": null,
   "id": "7a9da23f",
   "metadata": {},
   "outputs": [],
   "source": []
  },
  {
   "cell_type": "code",
   "execution_count": null,
   "id": "a5311438",
   "metadata": {},
   "outputs": [],
   "source": []
  },
  {
   "cell_type": "code",
   "execution_count": null,
   "id": "1902ad40",
   "metadata": {},
   "outputs": [],
   "source": []
  },
  {
   "cell_type": "code",
   "execution_count": null,
   "id": "fa259724",
   "metadata": {},
   "outputs": [],
   "source": []
  },
  {
   "cell_type": "code",
   "execution_count": null,
   "id": "bbfba5e2",
   "metadata": {},
   "outputs": [],
   "source": []
  },
  {
   "cell_type": "code",
   "execution_count": null,
   "id": "1dfe5b81",
   "metadata": {},
   "outputs": [],
   "source": []
  },
  {
   "cell_type": "code",
   "execution_count": null,
   "id": "d1533e51",
   "metadata": {},
   "outputs": [],
   "source": []
  },
  {
   "cell_type": "code",
   "execution_count": null,
   "id": "1bf5b2d7",
   "metadata": {},
   "outputs": [],
   "source": []
  },
  {
   "cell_type": "code",
   "execution_count": null,
   "id": "18f2adcb",
   "metadata": {},
   "outputs": [],
   "source": []
  },
  {
   "cell_type": "code",
   "execution_count": null,
   "id": "d0f63cef",
   "metadata": {},
   "outputs": [],
   "source": []
  },
  {
   "cell_type": "code",
   "execution_count": null,
   "id": "5078b02a",
   "metadata": {},
   "outputs": [],
   "source": []
  },
  {
   "cell_type": "code",
   "execution_count": null,
   "id": "e917e2e5",
   "metadata": {},
   "outputs": [],
   "source": []
  },
  {
   "cell_type": "code",
   "execution_count": null,
   "id": "fc4915cb",
   "metadata": {},
   "outputs": [],
   "source": []
  },
  {
   "cell_type": "code",
   "execution_count": null,
   "id": "0c88111b",
   "metadata": {},
   "outputs": [],
   "source": []
  },
  {
   "cell_type": "code",
   "execution_count": null,
   "id": "be1040b2",
   "metadata": {},
   "outputs": [],
   "source": []
  },
  {
   "cell_type": "code",
   "execution_count": null,
   "id": "2a97f883",
   "metadata": {},
   "outputs": [],
   "source": []
  },
  {
   "cell_type": "code",
   "execution_count": null,
   "id": "b5bb7b54",
   "metadata": {},
   "outputs": [],
   "source": []
  },
  {
   "cell_type": "code",
   "execution_count": null,
   "id": "a6ca45ba",
   "metadata": {},
   "outputs": [],
   "source": []
  },
  {
   "cell_type": "code",
   "execution_count": null,
   "id": "7a3b9c55",
   "metadata": {},
   "outputs": [],
   "source": []
  },
  {
   "cell_type": "code",
   "execution_count": null,
   "id": "bda04c58",
   "metadata": {},
   "outputs": [],
   "source": []
  },
  {
   "cell_type": "code",
   "execution_count": null,
   "id": "f1583594",
   "metadata": {},
   "outputs": [],
   "source": []
  },
  {
   "cell_type": "code",
   "execution_count": null,
   "id": "3b2fdf04",
   "metadata": {},
   "outputs": [],
   "source": []
  },
  {
   "cell_type": "code",
   "execution_count": null,
   "id": "0e18793c",
   "metadata": {},
   "outputs": [],
   "source": []
  },
  {
   "cell_type": "code",
   "execution_count": null,
   "id": "e262f5ce",
   "metadata": {},
   "outputs": [],
   "source": []
  },
  {
   "cell_type": "code",
   "execution_count": null,
   "id": "d1833e33",
   "metadata": {},
   "outputs": [],
   "source": []
  },
  {
   "cell_type": "code",
   "execution_count": null,
   "id": "ab4b3d17",
   "metadata": {},
   "outputs": [],
   "source": []
  },
  {
   "cell_type": "code",
   "execution_count": null,
   "id": "6e435584",
   "metadata": {},
   "outputs": [],
   "source": []
  },
  {
   "cell_type": "code",
   "execution_count": null,
   "id": "3a493cc9",
   "metadata": {},
   "outputs": [],
   "source": []
  },
  {
   "cell_type": "code",
   "execution_count": null,
   "id": "b623c064",
   "metadata": {},
   "outputs": [],
   "source": []
  },
  {
   "cell_type": "code",
   "execution_count": null,
   "id": "5ca25cfa",
   "metadata": {},
   "outputs": [],
   "source": []
  },
  {
   "cell_type": "code",
   "execution_count": null,
   "id": "cc40b795",
   "metadata": {},
   "outputs": [],
   "source": []
  },
  {
   "cell_type": "code",
   "execution_count": null,
   "id": "c0f8d7ae",
   "metadata": {},
   "outputs": [],
   "source": []
  },
  {
   "cell_type": "code",
   "execution_count": null,
   "id": "6192f9ac",
   "metadata": {},
   "outputs": [],
   "source": []
  },
  {
   "cell_type": "code",
   "execution_count": null,
   "id": "80f5bd40",
   "metadata": {},
   "outputs": [],
   "source": []
  },
  {
   "cell_type": "code",
   "execution_count": null,
   "id": "7ceaf68e",
   "metadata": {},
   "outputs": [],
   "source": []
  },
  {
   "cell_type": "code",
   "execution_count": null,
   "id": "7481a6be",
   "metadata": {},
   "outputs": [],
   "source": []
  },
  {
   "cell_type": "code",
   "execution_count": null,
   "id": "990326ec",
   "metadata": {},
   "outputs": [],
   "source": []
  },
  {
   "cell_type": "code",
   "execution_count": null,
   "id": "9cd8a08b",
   "metadata": {},
   "outputs": [],
   "source": []
  },
  {
   "cell_type": "code",
   "execution_count": null,
   "id": "ccd49cfc",
   "metadata": {},
   "outputs": [],
   "source": []
  },
  {
   "cell_type": "code",
   "execution_count": null,
   "id": "f43d406e",
   "metadata": {},
   "outputs": [],
   "source": []
  },
  {
   "cell_type": "code",
   "execution_count": null,
   "id": "d05263ba",
   "metadata": {},
   "outputs": [],
   "source": []
  },
  {
   "cell_type": "code",
   "execution_count": null,
   "id": "893f952d",
   "metadata": {},
   "outputs": [],
   "source": []
  },
  {
   "cell_type": "code",
   "execution_count": null,
   "id": "f1a112fd",
   "metadata": {},
   "outputs": [],
   "source": []
  },
  {
   "cell_type": "code",
   "execution_count": null,
   "id": "92c4d522",
   "metadata": {},
   "outputs": [],
   "source": []
  },
  {
   "cell_type": "code",
   "execution_count": null,
   "id": "e4b91bbc",
   "metadata": {},
   "outputs": [],
   "source": []
  },
  {
   "cell_type": "code",
   "execution_count": null,
   "id": "e77bdbb2",
   "metadata": {},
   "outputs": [],
   "source": []
  },
  {
   "cell_type": "code",
   "execution_count": null,
   "id": "dd1fb283",
   "metadata": {},
   "outputs": [],
   "source": []
  },
  {
   "cell_type": "code",
   "execution_count": null,
   "id": "661f1081",
   "metadata": {},
   "outputs": [],
   "source": []
  },
  {
   "cell_type": "code",
   "execution_count": null,
   "id": "030efb6b",
   "metadata": {},
   "outputs": [],
   "source": []
  },
  {
   "cell_type": "code",
   "execution_count": null,
   "id": "0ba1c42d",
   "metadata": {},
   "outputs": [],
   "source": []
  },
  {
   "cell_type": "code",
   "execution_count": null,
   "id": "d34faaf1",
   "metadata": {},
   "outputs": [],
   "source": []
  },
  {
   "cell_type": "code",
   "execution_count": null,
   "id": "52742f3a",
   "metadata": {},
   "outputs": [],
   "source": []
  },
  {
   "cell_type": "code",
   "execution_count": null,
   "id": "1fe7b554",
   "metadata": {},
   "outputs": [],
   "source": [
    "\n",
    "# Paramètres pour le test\n",
    "dim = 1  # Nombre de dimensions (nombre d'actifs)\n",
    "r = np.array([0.05, ])  # Taux sans risque pour chaque actif\n",
    "vol = np.array([0.1, ])  # Volatilité pour chaque actif\n",
    "corr = np.array([1.0])  # Matrice de corrélation\n",
    "mu = np.array([0.06])  # Dérive pour chaque actif\n",
    "process = BlackScholesProcess(dim=dim, r=r, vol=vol, corr=corr, mu=mu)  # Processus Black-Scholes\n",
    "\n",
    "# Création de l'option MaxPut\n",
    "S0 = np.array([100])\n",
    "K = 100\n",
    "T = 1\n",
    "option = MaxOption(K, T, S0)\n",
    "\n",
    "# Paramètres pour le test\n",
    "N = 10  # Nombre de trajectoires\n",
    "m = 50  # Nombre de pas de temps\n",
    "degree_values = [i for i in range(0, 3, 3)]  # Différentes valeurs de degré\n",
    "\n",
    "\n",
    "# Créer la base de régression polynomiale avec le degré spécifié\n",
    "degree = 3\n",
    "basis = PolynomialBasis(degree)\n",
    "ls = LongstaffSchwartz(option, basis, N)\n",
    "\n",
    "# Mesure du temps de calcul\n",
    "start_time = time.time()\n",
    "in_the_money, S,V = ls.price(option, process, m)\n",
    "end_time = time.time()\n"
   ]
  },
  {
   "cell_type": "code",
   "execution_count": null,
   "id": "9bf35c81",
   "metadata": {},
   "outputs": [],
   "source": [
    "in_the_money"
   ]
  },
  {
   "cell_type": "code",
   "execution_count": null,
   "id": "3be7ee53",
   "metadata": {},
   "outputs": [],
   "source": [
    "in_the_money=in_the_money.reshape(10,)"
   ]
  },
  {
   "cell_type": "code",
   "execution_count": null,
   "id": "71c80883",
   "metadata": {},
   "outputs": [],
   "source": [
    "S.shape"
   ]
  },
  {
   "cell_type": "code",
   "execution_count": null,
   "id": "f8aa8831",
   "metadata": {},
   "outputs": [],
   "source": [
    "t=50\n",
    "S_in_the_money = S[in_the_money, t]"
   ]
  },
  {
   "cell_type": "code",
   "execution_count": null,
   "id": "d7e434f6",
   "metadata": {},
   "outputs": [],
   "source": [
    "S_in_the_money"
   ]
  },
  {
   "cell_type": "code",
   "execution_count": 2,
   "id": "19c429b8",
   "metadata": {},
   "outputs": [],
   "source": [
    "dim = 3\n",
    "\n",
    "# Define the risk-free rate for each dimension (asset)\n",
    "r = np.array([0.05, 0.06, 0.04])\n",
    "\n",
    "# Define the volatility for each dimension (asset)\n",
    "vol = np.array([0.1, 0.2, 0.15])\n",
    "\n",
    "# Define the correlation matrix\n",
    "corr = np.array([\n",
    "[1.0, 0.2, 0.4],\n",
    "[0.2, 1.0, 0.5],\n",
    "[0.4, 0.5, 1.0]\n",
    "])\n",
    "\n",
    "# Define the drift for each dimension (asset)\n",
    "mu = np.array([0.06, 0.08, 0.07])\n",
    "\n",
    "# Create the Black-Scholes process\n",
    "process = BlackScholesProcess(dim=dim, r=r, vol=vol, corr=corr, mu=mu)\n",
    "\n",
    "# Define the initial asset prices\n",
    "S0 = np.array([100, 100, 100])\n",
    "\n",
    "# Define the number of paths and time steps\n",
    "N = 10\n",
    "m = 50\n",
    "\n",
    "# Define the time horizon\n",
    "T = 1\n",
    "\n",
    "# Generate paths\n",
    "S = process.generate_paths(S0, N, m, T)\n",
    "\n",
    "\n",
    "# Dictionnaire pour stocker les temps de calcul pour chaque base\n",
    "time_data = {}\n",
    "\n",
    "# basis\n",
    "\n",
    "\n",
    "\n",
    "# Création de l'algorithme de Longstaff-Schwartz avec la base de régression spécifiée\n",
    "K = 100\n",
    "\n",
    "option = MaxPutOption(K, T, S0)\n",
    "degree =3\n",
    "basis = ChebyshevBasis(degree)\n",
    "ls = LongstaffSchwartz(option, basis, N)\n",
    "\n",
    "price = ls.price(option, process, m)\n",
    "\n",
    "# Mesure du temps de calcul\n",
    "start_time = time.time()\n",
    "p = ls.price(option, process, m)\n",
    "end_time = time.time()\n",
    "\n",
    "# Ajout du temps de calcul à la liste\n"
   ]
  },
  {
   "cell_type": "code",
   "execution_count": 10,
   "id": "1b3b15ba",
   "metadata": {},
   "outputs": [
    {
     "data": {
      "text/plain": [
       "1"
      ]
     },
     "execution_count": 10,
     "metadata": {},
     "output_type": "execute_result"
    }
   ],
   "source": [
    "p[3]"
   ]
  },
  {
   "cell_type": "code",
   "execution_count": null,
   "id": "027cc905",
   "metadata": {},
   "outputs": [],
   "source": [
    "in_the_money"
   ]
  },
  {
   "cell_type": "code",
   "execution_count": null,
   "id": "5643c5d5",
   "metadata": {},
   "outputs": [],
   "source": [
    "in_the_money.shape"
   ]
  },
  {
   "cell_type": "code",
   "execution_count": null,
   "id": "2a7826a6",
   "metadata": {},
   "outputs": [],
   "source": [
    "S.shape"
   ]
  },
  {
   "cell_type": "code",
   "execution_count": null,
   "id": "a4964b2c",
   "metadata": {},
   "outputs": [],
   "source": [
    "t=50\n",
    "S[in_the_money, t]"
   ]
  },
  {
   "cell_type": "code",
   "execution_count": 20,
   "id": "5e74bc90",
   "metadata": {},
   "outputs": [],
   "source": [
    "def test_max_option(s0,m):\n",
    "    # Paramètres pour le test\n",
    "    dim = 1  # Nombre de dimensions (nombre d'actifs)\n",
    "    r = np.array([0.1, ])  # Taux sans risque pour chaque actif\n",
    "    vol = np.array([0.5, ])  # Volatilité pour chaque actif\n",
    "    corr = np.array([1.0])  # Matrice de corrélation\n",
    "    mu = np.array([0.06])  # Dérive pour chaque actif\n",
    "    process = BlackScholesProcess(dim=dim, r=r, vol=vol, corr=corr, mu=mu)  # Processus Black-Scholes\n",
    "\n",
    "    # Création de l'option MaxPut\n",
    "    S0 = np.array([s0])\n",
    "    K = 105\n",
    "    T = 1\n",
    "    option = MaxOption(K, T, S0)\n",
    "\n",
    "    # Paramètres pour le test\n",
    "    N = 10000  # Nombre de trajectoires\n",
    "    #m = 50  # Nombre de pas de temps\n",
    "    degree_values = [3]  # Différentes valeurs de degré\n",
    "\n",
    "    for degree in degree_values:\n",
    "        # Créer la base de régression polynomiale avec le degré spécifié\n",
    "        basis = PolynomialBasis(degree)\n",
    "        ls = LongstaffSchwartz(option, basis, N)\n",
    "\n",
    "        # Mesure du temps de calcul\n",
    "        start_time = time.time()\n",
    "        price, _, _, _, _ = ls.price(option, process, m)\n",
    "        end_time = time.time()\n",
    "\n",
    "#         print(f'Le prix de l\\'option MaxPut avec la base de régression polynomiale '\n",
    "#               f'de degré {degree} pour N={N} est : {price:.4f}')\n",
    "#         print(f'Temps de calcul : {end_time - start_time:.6f} secondes\\n')\n",
    "        \n",
    "    return price\n",
    "\n",
    "\n"
   ]
  },
  {
   "cell_type": "code",
   "execution_count": 11,
   "id": "6ee68d65",
   "metadata": {},
   "outputs": [],
   "source": [
    "L=20\n",
    "K=100\n",
    "T=1\n",
    "r=0.1\n",
    "sigma=0.5\n",
    "N=99\n",
    "M=49\n",
    "S=np.linspace(0,L,N+2)\n",
    "t=np.linspace(0,T,M+2)\n",
    "dt=T/(M+2)\n",
    "ds=L/(N+2)\n",
    "\n",
    "# Call_test = [ test_max_option(S[i],M+1) for i in range(N+2)] \n",
    "# plt.plot(S,Call_test)\n",
    "# plt.title('Call test à t=0')\n",
    "# plt.xlabel('S')\n",
    "# plt.ylabel('call')\n",
    "\n",
    "# plt.show()"
   ]
  },
  {
   "cell_type": "code",
   "execution_count": 23,
   "id": "a638434b",
   "metadata": {},
   "outputs": [
    {
     "data": {
      "text/plain": [
       "21.842400204037506"
      ]
     },
     "execution_count": 23,
     "metadata": {},
     "output_type": "execute_result"
    }
   ],
   "source": [
    "test_max_option(100,M+1)"
   ]
  },
  {
   "cell_type": "code",
   "execution_count": 21,
   "id": "81761cba",
   "metadata": {},
   "outputs": [],
   "source": [
    "L=20\n",
    "K=105\n",
    "T=1\n",
    "r=0.1\n",
    "sigma=0.5\n",
    "N=99\n",
    "M=4999\n",
    "S=np.linspace(0,L,N+2)\n",
    "t=np.linspace(0,T,M+2)\n",
    "dt=T/(M+2)\n",
    "ds=L/(N+2)\n",
    "V=np.zeros(N+2)\n",
    "def Np(x):\n",
    "    return 1/np.sqrt(2*np.pi)*np.exp(-x**2/2)\n",
    "\n",
    "def Nx(x):\n",
    "    γ = 0.2316419\n",
    "    a1= 0.319381530\n",
    "    a2= -0.356563782\n",
    "    a3= 1.781477937\n",
    "    a4= -1.821255978\n",
    "    a5= 1.330274429\n",
    "    κ =1/(1 +γ*x)\n",
    "    if x>=0:\n",
    "        return 1-Np(x)*(a1*κ + a2*κ**2+ a3*κ**3+ a4*κ**4+ a5*κ**5)\n",
    "    else:\n",
    "        return 1-Nx(-x)\n",
    "    \n",
    "\n",
    "\n",
    "def d1(t,s,K,T,r,sigma):\n",
    "    return ( np.log(s/K)+(r+sigma**2/2)*(T-t) )/( sigma*np.sqrt(T-t) )\n",
    "\n",
    "def d2(t,s,K,T,r,sigma):\n",
    "    return (np.log(s/K)+(r-sigma**2/2)*(T-t))/(sigma*np.sqrt(T-t))\n",
    "\n",
    "def Call_BS(t,s,K,T,r,sigma):\n",
    "    if T == t:\n",
    "        return max(s-K,0)\n",
    "    else :\n",
    "        return s*Nx(d1(t,s,K,T,r,sigma))-K*np.exp(-r*(T-t))*Nx(d2(t,s,K,T,r,sigma))\n",
    "    \n",
    "\n",
    "def Vega_BS(t,s,K,T,r,sigma):\n",
    "    \n",
    "    d = d1(t,s,K,T,r,sigma)\n",
    "    \n",
    "    return s*np.sqrt(T-t)*np.exp(-d**2/2)/(np.sqrt(2*np.pi))\n",
    "\n",
    "\n",
    "    \n",
    "\n"
   ]
  },
  {
   "cell_type": "code",
   "execution_count": null,
   "id": "42f0461a",
   "metadata": {},
   "outputs": [],
   "source": [
    "Call_test = [Call_BS(0,S[i],K,T,r,sigma) for i in range(N+2)] \n",
    "plt.plot(S,Call_test)\n",
    "plt.title('Call test à t=0')\n",
    "plt.xlabel('S')\n",
    "plt.ylabel('call')\n",
    "\n",
    "plt.show()"
   ]
  },
  {
   "cell_type": "code",
   "execution_count": 22,
   "id": "468d9285",
   "metadata": {},
   "outputs": [
    {
     "data": {
      "text/plain": [
       "21.84330509396409"
      ]
     },
     "execution_count": 22,
     "metadata": {},
     "output_type": "execute_result"
    }
   ],
   "source": [
    "Call_BS(0,100,K,T,r,sigma)"
   ]
  },
  {
   "cell_type": "code",
   "execution_count": null,
   "id": "64891b55",
   "metadata": {},
   "outputs": [],
   "source": []
  },
  {
   "cell_type": "code",
   "execution_count": null,
   "id": "bd369b3f",
   "metadata": {},
   "outputs": [],
   "source": []
  }
 ],
 "metadata": {
  "kernelspec": {
   "display_name": "Python 3 (ipykernel)",
   "language": "python",
   "name": "python3"
  },
  "language_info": {
   "codemirror_mode": {
    "name": "ipython",
    "version": 3
   },
   "file_extension": ".py",
   "mimetype": "text/x-python",
   "name": "python",
   "nbconvert_exporter": "python",
   "pygments_lexer": "ipython3",
   "version": "3.9.5"
  }
 },
 "nbformat": 4,
 "nbformat_minor": 5
}
